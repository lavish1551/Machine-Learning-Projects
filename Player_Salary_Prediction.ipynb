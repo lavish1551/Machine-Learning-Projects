{
  "nbformat": 4,
  "nbformat_minor": 0,
  "metadata": {
    "colab": {
      "provenance": [],
      "authorship_tag": "ABX9TyOIPIyRp1AqypWHTqqIJx9Q",
      "include_colab_link": true
    },
    "kernelspec": {
      "name": "python3",
      "display_name": "Python 3"
    },
    "language_info": {
      "name": "python"
    }
  },
  "cells": [
    {
      "cell_type": "markdown",
      "metadata": {
        "id": "view-in-github",
        "colab_type": "text"
      },
      "source": [
        "<a href=\"https://colab.research.google.com/github/lavish1551/Machine-Learning-Projects/blob/main/Player_Salary_Prediction.ipynb\" target=\"_parent\"><img src=\"https://colab.research.google.com/assets/colab-badge.svg\" alt=\"Open In Colab\"/></a>"
      ]
    },
    {
      "cell_type": "code",
      "execution_count": null,
      "metadata": {
        "id": "vtZ5i0VrZ0-G"
      },
      "outputs": [],
      "source": [
        "# Step 1: Install necessary libraries (uncomment if needed)\n",
        "# !pip install pandas numpy matplotlib seaborn scikit-learn\n",
        "\n",
        "# Step 2: Import Libraries\n",
        "import pandas as pd\n",
        "import numpy as np\n",
        "import seaborn as sns\n",
        "import matplotlib.pyplot as plt\n",
        "from sklearn.model_selection import train_test_split\n",
        "from sklearn.linear_model import LinearRegression\n",
        "from sklearn.metrics import mean_squared_error, r2_score\n",
        "\n",
        "# Step 3: Create Sample Dataset (or you can load your CSV)\n",
        "data = {\n",
        "    'Age': [22, 25, 28, 24, 30, 27, 21, 23, 26, 29],\n",
        "    'Experience': [1, 3, 6, 2, 7, 5, 1, 2, 4, 6],\n",
        "    'MatchesPlayed': [15, 35, 60, 20, 80, 55, 10, 18, 40, 70],\n",
        "    'GoalsScored': [3, 10, 18, 5, 25, 17, 1, 4, 12, 20],\n",
        "    'Salary': [50000, 120000, 200000, 75000, 300000, 190000, 40000, 60000, 150000, 280000]\n",
        "}\n",
        "\n",
        "df = pd.DataFrame(data)\n",
        "\n",
        "# Step 4: Explore the data\n",
        "print(df.head())\n",
        "print(\"\\nDescriptive Stats:\\n\", df.describe())\n",
        "\n",
        "# Step 5: Visualizations\n",
        "sns.pairplot(df)\n",
        "plt.suptitle(\"Feature Relationships\", y=1.02)\n",
        "plt.show()\n",
        "\n",
        "# Correlation heatmap\n",
        "plt.figure(figsize=(8, 6))\n",
        "sns.heatmap(df.corr(), annot=True, cmap=\"coolwarm\")\n",
        "plt.title(\"Correlation Heatmap\")\n",
        "plt.show()\n",
        "\n",
        "# Step 6: Feature selection\n",
        "X = df[['Age', 'Experience', 'MatchesPlayed', 'GoalsScored']]\n",
        "y = df['Salary']\n",
        "\n",
        "# Step 7: Train-test split\n",
        "X_train, X_test, y_train, y_test = train_test_split(X, y, test_size=0.2, random_state=42)\n",
        "\n",
        "# Step 8: Train model\n",
        "model = LinearRegression()\n",
        "model.fit(X_train, y_train)\n",
        "\n",
        "# Step 9: Predict\n",
        "y_pred = model.predict(X_test)\n",
        "\n",
        "# Step 10: Evaluation\n",
        "print(\"📉 Mean Squared Error:\", mean_squared_error(y_test, y_pred))\n",
        "print(\"📈 R² Score:\", r2_score(y_test, y_pred))\n",
        "\n",
        "# Plotting predicted vs actual\n",
        "plt.figure(figsize=(7, 5))\n",
        "plt.scatter(y_test, y_pred, color='blue')\n",
        "plt.plot([y.min(), y.max()], [y.min(), y.max()], color='red', linestyle='--')\n",
        "plt.xlabel(\"Actual Salary\")\n",
        "plt.ylabel(\"Predicted Salary\")\n",
        "plt.title(\"Actual vs Predicted Salary\")\n",
        "plt.grid(True)\n",
        "plt.show()"
      ]
    }
  ]
}