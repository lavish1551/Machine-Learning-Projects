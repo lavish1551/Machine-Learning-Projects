{
  "nbformat": 4,
  "nbformat_minor": 0,
  "metadata": {
    "colab": {
      "provenance": [],
      "authorship_tag": "ABX9TyPrEIB3Xrnw8pJo2S1sixpk",
      "include_colab_link": true
    },
    "kernelspec": {
      "name": "python3",
      "display_name": "Python 3"
    },
    "language_info": {
      "name": "python"
    }
  },
  "cells": [
    {
      "cell_type": "markdown",
      "metadata": {
        "id": "view-in-github",
        "colab_type": "text"
      },
      "source": [
        "<a href=\"https://colab.research.google.com/github/lavish1551/Machine-Learning-Projects/blob/main/Student_Academic_Performance_Prediction.ipynb\" target=\"_parent\"><img src=\"https://colab.research.google.com/assets/colab-badge.svg\" alt=\"Open In Colab\"/></a>"
      ]
    },
    {
      "cell_type": "code",
      "execution_count": null,
      "metadata": {
        "id": "TvEo-BIAZNT8"
      },
      "outputs": [],
      "source": [
        "# Step 1: Install packages if not already installed\n",
        "# !pip install pandas numpy matplotlib seaborn scikit-learn\n",
        "\n",
        "# Step 2: Import libraries\n",
        "import pandas as pd\n",
        "import numpy as np\n",
        "import seaborn as sns\n",
        "import matplotlib.pyplot as plt\n",
        "from sklearn.model_selection import train_test_split\n",
        "from sklearn.linear_model import LinearRegression\n",
        "from sklearn.metrics import mean_squared_error, r2_score\n",
        "\n",
        "# Step 3: Sample Dataset (Simulated)\n",
        "data = {\n",
        "    'HoursStudied': [2, 3, 4, 5, 6, 7, 8, 3, 4.5, 6.5],\n",
        "    'Attendance': [70, 75, 80, 85, 90, 95, 97, 78, 84, 92],\n",
        "    'PreviousScores': [60, 65, 70, 75, 80, 85, 90, 68, 72, 88],\n",
        "    'AssignmentsCompleted': [5, 6, 6, 7, 8, 9, 10, 6, 7, 9],\n",
        "    'FinalScore': [55, 60, 68, 72, 78, 85, 92, 64, 70, 88]\n",
        "}\n",
        "\n",
        "df = pd.DataFrame(data)\n",
        "\n",
        "# Step 4: Explore the data\n",
        "print(df.head())\n",
        "print(\"\\nStats Summary:\\n\", df.describe())\n",
        "\n",
        "# Step 5: Visualizations\n",
        "sns.pairplot(df)\n",
        "plt.suptitle(\"Feature Relationships\", y=1.02)\n",
        "plt.show()\n",
        "\n",
        "# Correlation heatmap\n",
        "plt.figure(figsize=(8, 6))\n",
        "sns.heatmap(df.corr(), annot=True, cmap=\"viridis\")\n",
        "plt.title(\"Correlation Heatmap\")\n",
        "plt.show()\n",
        "\n",
        "# Step 6: Feature Selection\n",
        "X = df[['HoursStudied', 'Attendance', 'PreviousScores', 'AssignmentsCompleted']]\n",
        "y = df['FinalScore']\n",
        "\n",
        "# Step 7: Train-test split\n",
        "X_train, X_test, y_train, y_test = train_test_split(X, y, test_size=0.2, random_state=42)\n",
        "\n",
        "# Step 8: Train the model\n",
        "model = LinearRegression()\n",
        "model.fit(X_train, y_train)\n",
        "\n",
        "# Step 9: Make Predictions\n",
        "y_pred = model.predict(X_test)\n",
        "\n",
        "# Step 10: Evaluate the model\n",
        "print(\"📉 Mean Squared Error:\", mean_squared_error(y_test, y_pred))\n",
        "print(\"📈 R² Score:\", r2_score(y_test, y_pred))\n",
        "\n",
        "# Step 11: Visualization: Predicted vs Actual\n",
        "plt.figure(figsize=(7, 5))\n",
        "plt.scatter(y_test, y_pred, color='blue')\n",
        "plt.plot([y.min(), y.max()], [y.min(), y.max()], 'r--')\n",
        "plt.xlabel(\"Actual Final Score\")\n",
        "plt.ylabel(\"Predicted Final Score\")\n",
        "plt.title(\"Actual vs Predicted Student Performance\")\n",
        "plt.grid(True)\n",
        "plt.show()"
      ]
    }
  ]
}